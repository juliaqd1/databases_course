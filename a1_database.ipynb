{
 "cells": [
  {
   "cell_type": "markdown",
   "metadata": {},
   "source": [
    "## A1 - Banco de Dados\n",
    "`Integrantes: Amanda Perez, Julia Queiroz e Kenner Azevedo`\n",
    "<br>\n",
    "`17 de setembro de 2021`"
   ]
  },
  {
   "cell_type": "code",
   "execution_count": 1,
   "metadata": {},
   "outputs": [],
   "source": [
    "import pandas as pd\n",
    "import numpy as np\n",
    "import pymysql\n",
    "from sqlalchemy import create_engine\n",
    "import requests\n",
    "import getpass"
   ]
  },
  {
   "cell_type": "code",
   "execution_count": 2,
   "metadata": {},
   "outputs": [
    {
     "data": {
      "text/html": [
       "<div>\n",
       "<style scoped>\n",
       "    .dataframe tbody tr th:only-of-type {\n",
       "        vertical-align: middle;\n",
       "    }\n",
       "\n",
       "    .dataframe tbody tr th {\n",
       "        vertical-align: top;\n",
       "    }\n",
       "\n",
       "    .dataframe thead th {\n",
       "        text-align: right;\n",
       "    }\n",
       "</style>\n",
       "<table border=\"1\" class=\"dataframe\">\n",
       "  <thead>\n",
       "    <tr style=\"text-align: right;\">\n",
       "      <th></th>\n",
       "      <th>autor</th>\n",
       "      <th>distribuidora</th>\n",
       "      <th>estado</th>\n",
       "      <th>preco</th>\n",
       "      <th>editora</th>\n",
       "      <th>edicao</th>\n",
       "      <th>titulo</th>\n",
       "      <th>cliente</th>\n",
       "    </tr>\n",
       "  </thead>\n",
       "  <tbody>\n",
       "    <tr>\n",
       "      <th>0</th>\n",
       "      <td>Graham Q. Vasquez</td>\n",
       "      <td>Auctor Odio Corp.</td>\n",
       "      <td>Rio de Janeiro</td>\n",
       "      <td>47</td>\n",
       "      <td>Velit Aliquam Limited</td>\n",
       "      <td>9</td>\n",
       "      <td>Cum sociis natoque penatibus</td>\n",
       "      <td>Buckminster Hopkins</td>\n",
       "    </tr>\n",
       "    <tr>\n",
       "      <th>1</th>\n",
       "      <td>Melinda I. Carney</td>\n",
       "      <td>Nec Corporation</td>\n",
       "      <td>Rio de Janeiro</td>\n",
       "      <td>34</td>\n",
       "      <td>Dapibus Associates</td>\n",
       "      <td>5</td>\n",
       "      <td>In</td>\n",
       "      <td>Kevin Fischer</td>\n",
       "    </tr>\n",
       "    <tr>\n",
       "      <th>2</th>\n",
       "      <td>Callie Arnold</td>\n",
       "      <td>Pretium Neque Morbi LLP</td>\n",
       "      <td>Minas Gerais</td>\n",
       "      <td>87</td>\n",
       "      <td>Phasellus Dolor Elit Incorporated</td>\n",
       "      <td>8</td>\n",
       "      <td>Aliquam</td>\n",
       "      <td>Jerome Scott</td>\n",
       "    </tr>\n",
       "    <tr>\n",
       "      <th>3</th>\n",
       "      <td>Raya G. Singleton</td>\n",
       "      <td>Orci Phasellus Associates</td>\n",
       "      <td>São Paulo</td>\n",
       "      <td>16</td>\n",
       "      <td>Dapibus Ligula Aliquam Institute</td>\n",
       "      <td>9</td>\n",
       "      <td>Vivamus</td>\n",
       "      <td>Castor Battle</td>\n",
       "    </tr>\n",
       "    <tr>\n",
       "      <th>4</th>\n",
       "      <td>Carla I. Williamson</td>\n",
       "      <td>Phasellus In Company</td>\n",
       "      <td>São Paulo</td>\n",
       "      <td>72</td>\n",
       "      <td>Duis A Consulting</td>\n",
       "      <td>3</td>\n",
       "      <td>libero</td>\n",
       "      <td>Levi Noel</td>\n",
       "    </tr>\n",
       "  </tbody>\n",
       "</table>\n",
       "</div>"
      ],
      "text/plain": [
       "                 autor              distribuidora          estado  preco  \\\n",
       "0    Graham Q. Vasquez          Auctor Odio Corp.  Rio de Janeiro     47   \n",
       "1    Melinda I. Carney            Nec Corporation  Rio de Janeiro     34   \n",
       "2        Callie Arnold    Pretium Neque Morbi LLP    Minas Gerais     87   \n",
       "3    Raya G. Singleton  Orci Phasellus Associates       São Paulo     16   \n",
       "4  Carla I. Williamson       Phasellus In Company       São Paulo     72   \n",
       "\n",
       "                             editora  edicao                        titulo  \\\n",
       "0              Velit Aliquam Limited       9  Cum sociis natoque penatibus   \n",
       "1                 Dapibus Associates       5                            In   \n",
       "2  Phasellus Dolor Elit Incorporated       8                       Aliquam   \n",
       "3   Dapibus Ligula Aliquam Institute       9                       Vivamus   \n",
       "4                  Duis A Consulting       3                        libero   \n",
       "\n",
       "               cliente  \n",
       "0  Buckminster Hopkins  \n",
       "1        Kevin Fischer  \n",
       "2         Jerome Scott  \n",
       "3        Castor Battle  \n",
       "4            Levi Noel  "
      ]
     },
     "execution_count": 2,
     "metadata": {},
     "output_type": "execute_result"
    }
   ],
   "source": [
    "# dados gerados a partir do Fake Data Generator\n",
    "df = pd.read_excel('books_database.xlsx')\n",
    "df.head()"
   ]
  },
  {
   "cell_type": "code",
   "execution_count": 3,
   "metadata": {},
   "outputs": [],
   "source": [
    "# adicionando gêneros de livros aleatoriamente ao dataframee\n",
    "genero = ['Romance', 'Ficção', 'Terror', 'Suspense', 'Drama', 'Poesia']\n",
    "df['genero'] = np.random.choice(genero, size = len(df))"
   ]
  },
  {
   "cell_type": "code",
   "execution_count": 4,
   "metadata": {},
   "outputs": [],
   "source": [
    "# criando ids\n",
    "for i in df.select_dtypes(exclude = [np.number]).columns:\n",
    "    df['id_{}'.format(i)] = df.groupby([i]).ngroup()\n",
    "    df['id_{}'.format(i)] = df['id_{}'.format(i)] + 1"
   ]
  },
  {
   "cell_type": "code",
   "execution_count": 5,
   "metadata": {},
   "outputs": [],
   "source": [
    "# pegando UFs dos estados a partir da API do IBGE\n",
    "url = 'https://servicodados.ibge.gov.br/api/v1/localidades/estados'\n",
    "r = requests.get(url)\n",
    "ufs = pd.DataFrame(r.json())\n",
    "ufs = ufs[['nome', 'sigla']]\n",
    "df = pd.merge(df, ufs, how = 'left', left_on = 'estado', right_on = 'nome')\n",
    "df.drop(columns = 'nome', inplace = True)"
   ]
  },
  {
   "cell_type": "markdown",
   "metadata": {},
   "source": [
    "## Criando tabelas"
   ]
  },
  {
   "cell_type": "code",
   "execution_count": 6,
   "metadata": {},
   "outputs": [],
   "source": [
    "df_Livros = df[['id_titulo', 'titulo', 'preco', 'edicao', 'id_editora', 'id_distribuidora']].sort_values(by = 'id_titulo', ascending = True).drop_duplicates(subset = 'id_titulo', keep = 'first')\n",
    "df_Livros.rename(columns = {'id_titulo': 'id_livro', 'id_editora': 'Editora_id_editora', 'id_distribuidora': 'Distribuidora_id_distrib'}, inplace = True)"
   ]
  },
  {
   "cell_type": "code",
   "execution_count": 7,
   "metadata": {},
   "outputs": [
    {
     "name": "stderr",
     "output_type": "stream",
     "text": [
      "C:\\ProgramData\\Anaconda3\\lib\\site-packages\\pandas\\core\\frame.py:4125: SettingWithCopyWarning: \n",
      "A value is trying to be set on a copy of a slice from a DataFrame\n",
      "\n",
      "See the caveats in the documentation: https://pandas.pydata.org/pandas-docs/stable/user_guide/indexing.html#returning-a-view-versus-a-copy\n",
      "  return super().rename(\n",
      "<ipython-input-7-6d70809bcf76>:3: SettingWithCopyWarning: \n",
      "A value is trying to be set on a copy of a slice from a DataFrame.\n",
      "Try using .loc[row_indexer,col_indexer] = value instead\n",
      "\n",
      "See the caveats in the documentation: https://pandas.pydata.org/pandas-docs/stable/user_guide/indexing.html#returning-a-view-versus-a-copy\n",
      "  df_Rel_autor_livro['id_rel_aut_liv'] = df_Rel_autor_livro.groupby(['Livros_id_livro', 'Autor_id_autor']).ngroup()\n",
      "<ipython-input-7-6d70809bcf76>:4: SettingWithCopyWarning: \n",
      "A value is trying to be set on a copy of a slice from a DataFrame.\n",
      "Try using .loc[row_indexer,col_indexer] = value instead\n",
      "\n",
      "See the caveats in the documentation: https://pandas.pydata.org/pandas-docs/stable/user_guide/indexing.html#returning-a-view-versus-a-copy\n",
      "  df_Rel_autor_livro['id_rel_aut_liv'] = df_Rel_autor_livro['id_rel_aut_liv'] + 1\n"
     ]
    }
   ],
   "source": [
    "df_Rel_autor_livro = df[['id_titulo', 'id_autor']]\n",
    "df_Rel_autor_livro.rename(columns = {'id_titulo': 'Livros_id_livro', 'id_autor': 'Autor_id_autor'}, inplace = True)\n",
    "df_Rel_autor_livro['id_rel_aut_liv'] = df_Rel_autor_livro.groupby(['Livros_id_livro', 'Autor_id_autor']).ngroup()\n",
    "df_Rel_autor_livro['id_rel_aut_liv'] = df_Rel_autor_livro['id_rel_aut_liv'] + 1"
   ]
  },
  {
   "cell_type": "code",
   "execution_count": 8,
   "metadata": {},
   "outputs": [],
   "source": [
    "df_Autor = df[['id_autor', 'autor']].drop_duplicates(subset = 'id_autor', keep = 'first').sort_values(by = 'id_autor', ascending = True)\n",
    "df_Autor.rename(columns = {'autor': 'nome'}, inplace = True)"
   ]
  },
  {
   "cell_type": "code",
   "execution_count": 9,
   "metadata": {},
   "outputs": [
    {
     "name": "stderr",
     "output_type": "stream",
     "text": [
      "<ipython-input-9-da14dffd51e6>:3: SettingWithCopyWarning: \n",
      "A value is trying to be set on a copy of a slice from a DataFrame.\n",
      "Try using .loc[row_indexer,col_indexer] = value instead\n",
      "\n",
      "See the caveats in the documentation: https://pandas.pydata.org/pandas-docs/stable/user_guide/indexing.html#returning-a-view-versus-a-copy\n",
      "  df_Rel_genero_livro['id_rel_gen_liv'] = df_Rel_genero_livro.groupby(['Livros_id_livro', 'Generos_id_genero']).ngroup()\n",
      "<ipython-input-9-da14dffd51e6>:4: SettingWithCopyWarning: \n",
      "A value is trying to be set on a copy of a slice from a DataFrame.\n",
      "Try using .loc[row_indexer,col_indexer] = value instead\n",
      "\n",
      "See the caveats in the documentation: https://pandas.pydata.org/pandas-docs/stable/user_guide/indexing.html#returning-a-view-versus-a-copy\n",
      "  df_Rel_genero_livro['id_rel_gen_liv'] = df_Rel_genero_livro['id_rel_gen_liv'] + 1\n"
     ]
    }
   ],
   "source": [
    "df_Rel_genero_livro = df[['id_titulo', 'id_genero']]\n",
    "df_Rel_genero_livro.rename(columns = {'id_titulo': 'Livros_id_livro', 'id_genero': 'Generos_id_genero'}, inplace = True)\n",
    "df_Rel_genero_livro['id_rel_gen_liv'] = df_Rel_genero_livro.groupby(['Livros_id_livro', 'Generos_id_genero']).ngroup()\n",
    "df_Rel_genero_livro['id_rel_gen_liv'] = df_Rel_genero_livro['id_rel_gen_liv'] + 1"
   ]
  },
  {
   "cell_type": "code",
   "execution_count": 10,
   "metadata": {},
   "outputs": [],
   "source": [
    "df_Genero = df[['id_genero', 'genero']].drop_duplicates(subset = 'id_genero', keep = 'first').sort_values(by = 'id_genero', ascending = True)"
   ]
  },
  {
   "cell_type": "code",
   "execution_count": 11,
   "metadata": {},
   "outputs": [],
   "source": [
    "df_Estados_br = df[['id_estado', 'estado', 'sigla']].drop_duplicates(subset = 'id_estado', keep = 'first').sort_values(by = 'id_estado', ascending = True)\n",
    "df_Estados_br.rename(columns = {'estado': 'nome', 'sigla': 'UF'}, inplace = True)"
   ]
  },
  {
   "cell_type": "code",
   "execution_count": 12,
   "metadata": {},
   "outputs": [],
   "source": [
    "df_Cliente = df[['id_cliente', 'cliente']].drop_duplicates(subset = 'id_cliente', keep = 'first').sort_values(by = 'id_cliente', ascending = True)\n",
    "df_Cliente.rename(columns = {'cliente': 'nome'}, inplace = True)"
   ]
  },
  {
   "cell_type": "code",
   "execution_count": 13,
   "metadata": {},
   "outputs": [
    {
     "name": "stderr",
     "output_type": "stream",
     "text": [
      "<ipython-input-13-104e8b5140ef>:3: SettingWithCopyWarning: \n",
      "A value is trying to be set on a copy of a slice from a DataFrame.\n",
      "Try using .loc[row_indexer,col_indexer] = value instead\n",
      "\n",
      "See the caveats in the documentation: https://pandas.pydata.org/pandas-docs/stable/user_guide/indexing.html#returning-a-view-versus-a-copy\n",
      "  df_Rel_livro_cliente['id_compra'] = df_Rel_livro_cliente.groupby(['Livros_id_livro', 'Cliente_id_cliente']).ngroup()\n",
      "<ipython-input-13-104e8b5140ef>:4: SettingWithCopyWarning: \n",
      "A value is trying to be set on a copy of a slice from a DataFrame.\n",
      "Try using .loc[row_indexer,col_indexer] = value instead\n",
      "\n",
      "See the caveats in the documentation: https://pandas.pydata.org/pandas-docs/stable/user_guide/indexing.html#returning-a-view-versus-a-copy\n",
      "  df_Rel_livro_cliente['id_compra'] = df_Rel_livro_cliente['id_compra'] + 1\n"
     ]
    }
   ],
   "source": [
    "df_Rel_livro_cliente = df[['id_cliente', 'id_titulo']]\n",
    "df_Rel_livro_cliente.rename(columns = {'id_titulo': 'Livros_id_livro', 'id_cliente': 'Cliente_id_cliente'}, inplace = True)\n",
    "df_Rel_livro_cliente['id_compra'] = df_Rel_livro_cliente.groupby(['Livros_id_livro', 'Cliente_id_cliente']).ngroup()\n",
    "df_Rel_livro_cliente['id_compra'] = df_Rel_livro_cliente['id_compra'] + 1"
   ]
  },
  {
   "cell_type": "code",
   "execution_count": 14,
   "metadata": {},
   "outputs": [],
   "source": [
    "df_Editora = df[['id_editora', 'editora']].drop_duplicates(subset = 'id_editora', keep = 'first').sort_values(by = 'id_editora', ascending = True)\n",
    "df_Editora.rename(columns = {'editora': 'nome'}, inplace = True)"
   ]
  },
  {
   "cell_type": "code",
   "execution_count": 15,
   "metadata": {},
   "outputs": [],
   "source": [
    "df_Distribuidora = df[['id_distribuidora', 'distribuidora', 'id_estado']].drop_duplicates(subset = 'id_distribuidora', keep = 'first').sort_values(by = 'id_distribuidora', ascending = True)\n",
    "df_Distribuidora.rename(columns = {'id_distribuidora': 'id_distrib', 'distribuidora': 'nome', 'id_estado': 'Estados_br_id_estado'}, inplace = True)"
   ]
  },
  {
   "cell_type": "markdown",
   "metadata": {},
   "source": [
    "## Conectando à base de dados"
   ]
  },
  {
   "cell_type": "code",
   "execution_count": 16,
   "metadata": {},
   "outputs": [
    {
     "name": "stdout",
     "output_type": "stream",
     "text": [
      "········\n"
     ]
    }
   ],
   "source": [
    "p = getpass.getpass()"
   ]
  },
  {
   "cell_type": "code",
   "execution_count": 17,
   "metadata": {},
   "outputs": [],
   "source": [
    "conn = pymysql.connect(host = '127.0.0.1', port = 3306, user = 'root', passwd = p)\n",
    "cur = conn.cursor()"
   ]
  },
  {
   "cell_type": "markdown",
   "metadata": {},
   "source": [
    "## Criando tabelas a partir de um arquivo SQL\n",
    "O arquivo SQL foi extraído do Vertabelo, ambiente onde foi criado o modelo físico."
   ]
  },
  {
   "cell_type": "code",
   "execution_count": 18,
   "metadata": {},
   "outputs": [
    {
     "name": "stdout",
     "output_type": "stream",
     "text": [
      "-- Created by Vertabelo (http://vertabelo.com)\n",
      "-- Last modification date: 2021-09-15 15:12:57.56\n",
      "\n",
      "-- tables\n",
      "-- Table: Autor\n",
      "CREATE DATABASE IF NOT EXISTS Livraria;\n",
      "1\n",
      "\n",
      "\n",
      "USE Livraria;\n",
      "0\n",
      "\n",
      "\n",
      "CREATE TABLE Autor (\n",
      "    id_autor int NOT NULL,\n",
      "    nome varchar(35) NOT NULL,\n",
      "    CONSTRAINT Autor_pk PRIMARY KEY (id_autor)\n",
      ");\n",
      "0\n",
      "\n",
      "\n",
      "-- Table: Cliente\n",
      "CREATE TABLE Cliente (\n",
      "    id_cliente int NOT NULL,\n",
      "    nome varchar(35) NOT NULL,\n",
      "    CONSTRAINT Cliente_pk PRIMARY KEY (id_cliente)\n",
      ");\n",
      "0\n",
      "\n",
      "\n",
      "-- Table: Distribuidora\n",
      "CREATE TABLE Distribuidora (\n",
      "    id_distrib int NOT NULL,\n",
      "    nome varchar(40) NOT NULL,\n",
      "    Estados_br_id_estado int NOT NULL,\n",
      "    CONSTRAINT Distribuidora_pk PRIMARY KEY (id_distrib)\n",
      ");\n",
      "0\n",
      "\n",
      "\n",
      "-- Table: Editora\n",
      "CREATE TABLE Editora (\n",
      "    id_editora int NOT NULL,\n",
      "    nome varchar(40) NOT NULL,\n",
      "    CONSTRAINT Editora_pk PRIMARY KEY (id_editora)\n",
      ");\n",
      "0\n",
      "\n",
      "\n",
      "-- Table: Estados_br\n",
      "CREATE TABLE Estados_br (\n",
      "    id_estado int NOT NULL,\n",
      "    nome varchar(30) NOT NULL,\n",
      "    UF varchar(2) NOT NULL,\n",
      "    CONSTRAINT Estados_br_pk PRIMARY KEY (id_estado)\n",
      ");\n",
      "0\n",
      "\n",
      "\n",
      "-- Table: Generos\n",
      "CREATE TABLE Generos (\n",
      "    id_genero int NOT NULL,\n",
      "    genero varchar(20) NOT NULL,\n",
      "    CONSTRAINT Generos_pk PRIMARY KEY (id_genero)\n",
      ");\n",
      "0\n",
      "\n",
      "\n",
      "-- Table: Livros\n",
      "CREATE TABLE Livros (\n",
      "    id_livro int NOT NULL,\n",
      "    titulo varchar(100) NOT NULL,\n",
      "    preco float(10,2) NOT NULL,\n",
      "    edicao int NOT NULL,\n",
      "    Editora_id_editora int NOT NULL,\n",
      "    Distribuidora_id_distrib int NOT NULL,\n",
      "    CONSTRAINT Livros_pk PRIMARY KEY (id_livro)\n",
      ");\n",
      "0\n",
      "\n",
      "\n",
      "-- Table: Rel_autor_livro\n",
      "CREATE TABLE Rel_autor_livro (\n",
      "    Livros_id_livro int NOT NULL,\n",
      "    Autor_id_autor int NOT NULL,\n",
      "    id_rel_aut_liv int NOT NULL,\n",
      "    CONSTRAINT Rel_autor_livro_pk PRIMARY KEY (id_rel_aut_liv)\n",
      ");\n",
      "0\n",
      "\n",
      "\n",
      "-- Table: Rel_genero_livro\n",
      "CREATE TABLE Rel_genero_livro (\n",
      "    Livros_id_livro int NOT NULL,\n",
      "    Generos_id_genero int NOT NULL,\n",
      "    id_rel_gen_liv int NOT NULL,\n",
      "    CONSTRAINT Rel_genero_livro_pk PRIMARY KEY (id_rel_gen_liv)\n",
      ");\n",
      "0\n",
      "\n",
      "\n",
      "-- Table: Rel_livro_cliente\n",
      "CREATE TABLE Rel_livro_cliente (\n",
      "    id_compra int NOT NULL,\n",
      "    Cliente_id_cliente int NOT NULL,\n",
      "    Livros_id_livro int NOT NULL,\n",
      "    CONSTRAINT Rel_livro_cliente_pk PRIMARY KEY (id_compra)\n",
      ");\n",
      "0\n",
      "\n",
      "\n",
      "-- foreign keys\n",
      "-- Reference: Compra_Livros (table: Rel_livro_cliente)\n",
      "ALTER TABLE Rel_livro_cliente ADD CONSTRAINT Compra_Livros FOREIGN KEY Compra_Livros (Livros_id_livro)\n",
      "    REFERENCES Livros (id_livro);\n",
      "0\n",
      "\n",
      "\n",
      "-- Reference: Compras_Cliente (table: Rel_livro_cliente)\n",
      "ALTER TABLE Rel_livro_cliente ADD CONSTRAINT Compras_Cliente FOREIGN KEY Compras_Cliente (Cliente_id_cliente)\n",
      "    REFERENCES Cliente (id_cliente);\n",
      "0\n",
      "\n",
      "\n",
      "-- Reference: Distribuidora_Estados_br (table: Distribuidora)\n",
      "ALTER TABLE Distribuidora ADD CONSTRAINT Distribuidora_Estados_br FOREIGN KEY Distribuidora_Estados_br (Estados_br_id_estado)\n",
      "    REFERENCES Estados_br (id_estado);\n",
      "0\n",
      "\n",
      "\n",
      "-- Reference: Livros_Distribuidora (table: Livros)\n",
      "ALTER TABLE Livros ADD CONSTRAINT Livros_Distribuidora FOREIGN KEY Livros_Distribuidora (Distribuidora_id_distrib)\n",
      "    REFERENCES Distribuidora (id_distrib);\n",
      "0\n",
      "\n",
      "\n",
      "-- Reference: Livros_Editora (table: Livros)\n",
      "ALTER TABLE Livros ADD CONSTRAINT Livros_Editora FOREIGN KEY Livros_Editora (Editora_id_editora)\n",
      "    REFERENCES Editora (id_editora);\n",
      "0\n",
      "\n",
      "\n",
      "-- Reference: Rel_autor_livro_Autor (table: Rel_autor_livro)\n",
      "ALTER TABLE Rel_autor_livro ADD CONSTRAINT Rel_autor_livro_Autor FOREIGN KEY Rel_autor_livro_Autor (Autor_id_autor)\n",
      "    REFERENCES Autor (id_autor);\n",
      "0\n",
      "\n",
      "\n",
      "-- Reference: Rel_autor_livro_Livros (table: Rel_autor_livro)\n",
      "ALTER TABLE Rel_autor_livro ADD CONSTRAINT Rel_autor_livro_Livros FOREIGN KEY Rel_autor_livro_Livros (Livros_id_livro)\n",
      "    REFERENCES Livros (id_livro);\n",
      "0\n",
      "\n",
      "\n",
      "-- Reference: Rel_genero_livro_Generos (table: Rel_genero_livro)\n",
      "ALTER TABLE Rel_genero_livro ADD CONSTRAINT Rel_genero_livro_Generos FOREIGN KEY Rel_genero_livro_Generos (Generos_id_genero)\n",
      "    REFERENCES Generos (id_genero);\n",
      "0\n",
      "\n",
      "\n",
      "-- Reference: Rel_genero_livro_Livros (table: Rel_genero_livro)\n",
      "ALTER TABLE Rel_genero_livro ADD CONSTRAINT Rel_genero_livro_Livros FOREIGN KEY Rel_genero_livro_Livros (Livros_id_livro)\n",
      "    REFERENCES Livros (id_livro);\n",
      "0\n"
     ]
    }
   ],
   "source": [
    "with open('create_databases.sql') as f:\n",
    "    create_database_sql = f.read()\n",
    "create_database_sql_list = create_database_sql.split(';')\n",
    "create_database_sql_list = [q+';' for q in create_database_sql_list][:-1]\n",
    "\n",
    "for query in create_database_sql_list:\n",
    "    print(query)\n",
    "    print(cur.execute(query))"
   ]
  },
  {
   "cell_type": "markdown",
   "metadata": {},
   "source": [
    "## Populando tabelas"
   ]
  },
  {
   "cell_type": "code",
   "execution_count": 19,
   "metadata": {},
   "outputs": [],
   "source": [
    "cols = \"`,`\".join([str(i) for i in df_Autor.columns.tolist()])\n",
    "for i, row in df_Autor.iterrows():\n",
    "    sql = \"INSERT INTO `Autor` (`\" + cols + \"`) VALUES (\" + \"%s,\"*(len(row) - 1) + \"%s)\"\n",
    "    cur.execute(sql, tuple(row))\n",
    "    conn.commit()"
   ]
  },
  {
   "cell_type": "code",
   "execution_count": 20,
   "metadata": {},
   "outputs": [],
   "source": [
    "cols = \"`,`\".join([str(i) for i in df_Genero.columns.tolist()])\n",
    "for i, row in df_Genero.iterrows():\n",
    "    sql = \"INSERT INTO `Generos` (`\" + cols + \"`) VALUES (\" + \"%s,\"*(len(row) - 1) + \"%s)\"\n",
    "    cur.execute(sql, tuple(row))\n",
    "    conn.commit()"
   ]
  },
  {
   "cell_type": "code",
   "execution_count": 21,
   "metadata": {},
   "outputs": [],
   "source": [
    "cols = \"`,`\".join([str(i) for i in df_Estados_br.columns.tolist()])\n",
    "for i, row in df_Estados_br.iterrows():\n",
    "    sql = \"INSERT INTO `Estados_br` (`\" + cols + \"`) VALUES (\" + \"%s,\"*(len(row) - 1) + \"%s)\"\n",
    "    cur.execute(sql, tuple(row))\n",
    "    conn.commit()"
   ]
  },
  {
   "cell_type": "code",
   "execution_count": 22,
   "metadata": {},
   "outputs": [],
   "source": [
    "cols = \"`,`\".join([str(i) for i in df_Editora.columns.tolist()])\n",
    "for i, row in df_Editora.iterrows():\n",
    "    sql = \"INSERT INTO `Editora` (`\" + cols + \"`) VALUES (\" + \"%s,\"*(len(row) - 1) + \"%s)\"\n",
    "    cur.execute(sql, tuple(row))\n",
    "    conn.commit()"
   ]
  },
  {
   "cell_type": "code",
   "execution_count": 23,
   "metadata": {},
   "outputs": [],
   "source": [
    "cols = \"`,`\".join([str(i) for i in df_Cliente.columns.tolist()])\n",
    "for i, row in df_Cliente.iterrows():\n",
    "    sql = \"INSERT INTO `Cliente` (`\" + cols + \"`) VALUES (\" + \"%s,\"*(len(row) - 1) + \"%s)\"\n",
    "    cur.execute(sql, tuple(row))\n",
    "    conn.commit()"
   ]
  },
  {
   "cell_type": "code",
   "execution_count": 24,
   "metadata": {},
   "outputs": [],
   "source": [
    "cols = \"`,`\".join([str(i) for i in df_Distribuidora.columns.tolist()])\n",
    "for i, row in df_Distribuidora.iterrows():\n",
    "    sql = \"INSERT INTO `Distribuidora` (`\" + cols + \"`) VALUES (\" + \"%s,\"*(len(row) - 1) + \"%s)\"\n",
    "    cur.execute(sql, tuple(row))\n",
    "    conn.commit()"
   ]
  },
  {
   "cell_type": "code",
   "execution_count": 25,
   "metadata": {},
   "outputs": [],
   "source": [
    "cols = \"`,`\".join([str(i) for i in df_Livros.columns.tolist()])\n",
    "for i, row in df_Livros.iterrows():\n",
    "    sql = \"INSERT INTO `Livros` (`\" + cols + \"`) VALUES (\" + \"%s,\"*(len(row) - 1) + \"%s)\"\n",
    "    cur.execute(sql, tuple(row))\n",
    "    conn.commit()"
   ]
  },
  {
   "cell_type": "code",
   "execution_count": 26,
   "metadata": {},
   "outputs": [],
   "source": [
    "cols = \"`,`\".join([str(i) for i in df_Rel_autor_livro.columns.tolist()])\n",
    "for i, row in df_Rel_autor_livro.iterrows():\n",
    "    sql = \"INSERT INTO `Rel_autor_livro` (`\" + cols + \"`) VALUES (\" + \"%s,\"*(len(row) - 1) + \"%s)\"\n",
    "    cur.execute(sql, tuple(row))\n",
    "    conn.commit()"
   ]
  },
  {
   "cell_type": "code",
   "execution_count": 27,
   "metadata": {},
   "outputs": [],
   "source": [
    "cols = \"`,`\".join([str(i) for i in df_Rel_genero_livro.columns.tolist()])\n",
    "for i, row in df_Rel_genero_livro.iterrows():\n",
    "    sql = \"INSERT INTO `Rel_genero_livro` (`\" + cols + \"`) VALUES (\" + \"%s,\"*(len(row) - 1) + \"%s)\"\n",
    "    cur.execute(sql, tuple(row))\n",
    "    conn.commit()"
   ]
  },
  {
   "cell_type": "code",
   "execution_count": 28,
   "metadata": {},
   "outputs": [],
   "source": [
    "cols = \"`,`\".join([str(i) for i in df_Rel_livro_cliente.columns.tolist()])\n",
    "for i, row in df_Rel_livro_cliente.iterrows():\n",
    "    sql = \"INSERT INTO `Rel_livro_cliente` (`\" + cols + \"`) VALUES (\" + \"%s,\"*(len(row) - 1) + \"%s)\"\n",
    "    cur.execute(sql, tuple(row))\n",
    "    conn.commit()"
   ]
  }
 ],
 "metadata": {
  "kernelspec": {
   "display_name": "Python 3",
   "language": "python",
   "name": "python3"
  },
  "language_info": {
   "codemirror_mode": {
    "name": "ipython",
    "version": 3
   },
   "file_extension": ".py",
   "mimetype": "text/x-python",
   "name": "python",
   "nbconvert_exporter": "python",
   "pygments_lexer": "ipython3",
   "version": "3.8.3"
  }
 },
 "nbformat": 4,
 "nbformat_minor": 4
}
